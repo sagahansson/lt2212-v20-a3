{
 "cells": [
  {
   "cell_type": "code",
   "execution_count": null,
   "metadata": {},
   "outputs": [],
   "source": [
    "import glob\n",
    "import os\n",
    "import numpy as np\n",
    "import pandas as pd\n",
    "from nltk.tokenize import word_tokenize\n",
    "from nltk.corpus import stopwords\n",
    "from sklearn.feature_extraction.text import TfidfVectorizer\n",
    "from sklearn.decomposition import TruncatedSVD\n",
    "stopwords = stopwords.words('english')"
   ]
  },
  {
   "cell_type": "code",
   "execution_count": null,
   "metadata": {},
   "outputs": [],
   "source": [
    "enron = glob.glob(\"{}/*/*.*\".format(\"enron_sample\"))\n",
    "#enron2 = glob.glob(\"{}/*\".format(\"enron_sample\"))"
   ]
  },
  {
   "cell_type": "code",
   "execution_count": null,
   "metadata": {},
   "outputs": [],
   "source": [
    "enron"
   ]
  },
  {
   "cell_type": "code",
   "execution_count": null,
   "metadata": {},
   "outputs": [],
   "source": [
    "#files = [author.split('/')[-2:] for author in enron]\n",
    "filenames, authors_in_order = [author.split('/')[-2] + \"/\" + author.split('/')[-1]  for author in enron], [author.split('/')[-2] for author in enron]\n",
    "#files\n",
    "small_filenames = filenames[:5]\n",
    "#files = [os.path.split(author) for author in enron]"
   ]
  },
  {
   "cell_type": "code",
   "execution_count": null,
   "metadata": {},
   "outputs": [],
   "source": [
    "filenames\n",
    "#author_in_order = [file.split('/')[0] for file in filenames]\n",
    "#small_author_in_order = author_in_order[:5]"
   ]
  },
  {
   "cell_type": "code",
   "execution_count": null,
   "metadata": {},
   "outputs": [],
   "source": [
    "authors_in_order\n"
   ]
  },
  {
   "cell_type": "code",
   "execution_count": null,
   "metadata": {},
   "outputs": [],
   "source": [
    "#texts = [glob.glob(\"{}/*\".format(author)) for author in enron2]\n",
    "#texts"
   ]
  },
  {
   "cell_type": "code",
   "execution_count": null,
   "metadata": {},
   "outputs": [],
   "source": [
    "\n",
    "from nltk.tokenize import word_tokenize\n",
    "from nltk.corpus import stopwords\n",
    "stopwords = stopwords.words('english')\n",
    "\n",
    "\n",
    "all_files = []\n",
    "for file in enron:\n",
    "    with open(file, \"r\") as f:\n",
    "        onefile = ' '.join(word_tokenize(f.read()))\n",
    "    all_files.append(onefile)\n",
    "    \n",
    "        \n",
    "        "
   ]
  },
  {
   "cell_type": "code",
   "execution_count": null,
   "metadata": {},
   "outputs": [],
   "source": [
    "all_files"
   ]
  },
  {
   "cell_type": "code",
   "execution_count": null,
   "metadata": {},
   "outputs": [],
   "source": [
    "#files\n",
    "#author_file = []\n",
    "#for f in files: \n",
    "#    authorname = f.split(\"/\")[1]\n",
    "#    filename = f.split(\"/\")[2] \n",
    "#    author_file.append((authorname, filename))"
   ]
  },
  {
   "cell_type": "code",
   "execution_count": null,
   "metadata": {},
   "outputs": [],
   "source": [
    "#author_file\n"
   ]
  },
  {
   "cell_type": "code",
   "execution_count": null,
   "metadata": {},
   "outputs": [],
   "source": [
    "small_files = all_files[:5]\n",
    "small_files\n",
    "mini_files = [all_files[0]]"
   ]
  },
  {
   "cell_type": "code",
   "execution_count": null,
   "metadata": {},
   "outputs": [],
   "source": [
    "from sklearn.feature_extraction.text import TfidfVectorizer\n",
    "\n",
    "vectorizer = TfidfVectorizer(stop_words=stopwords, token_pattern=r'(?u)\\b[A-Za-z][A-Za-z]+\\b')\n",
    "X = vectorizer.fit_transform(all_files)\n",
    "print(vectorizer.get_feature_names())\n",
    "print(X.shape)\n"
   ]
  },
  {
   "cell_type": "code",
   "execution_count": null,
   "metadata": {},
   "outputs": [],
   "source": [
    "from sklearn.feature_extraction.text import TfidfVectorizer\n",
    "from sklearn.decomposition import TruncatedSVD\n",
    "svd = TruncatedSVD(n_components=2000)\n",
    "fit_transformed = svd.fit_transform(X)\n",
    "fit_transformed.shape\n"
   ]
  },
  {
   "cell_type": "code",
   "execution_count": null,
   "metadata": {},
   "outputs": [],
   "source": [
    "\n",
    "df = pd.DataFrame(data=fit_transformed)\n",
    "df.insert(0, \"Filenames\", filenames)\n",
    "df.insert(0, \"Author\", authors_in_order)\n",
    "df\n"
   ]
  },
  {
   "cell_type": "code",
   "execution_count": null,
   "metadata": {},
   "outputs": [],
   "source": [
    "testsize = 20"
   ]
  },
  {
   "cell_type": "code",
   "execution_count": null,
   "metadata": {},
   "outputs": [],
   "source": [
    "#a = len(df)*testsize//100"
   ]
  },
  {
   "cell_type": "code",
   "execution_count": null,
   "metadata": {},
   "outputs": [],
   "source": [
    "from sklearn.model_selection import train_test_split\n",
    "\n",
    "train, test = train_test_split(df, test_size=0.2)"
   ]
  },
  {
   "cell_type": "code",
   "execution_count": null,
   "metadata": {},
   "outputs": [],
   "source": [
    "train"
   ]
  },
  {
   "cell_type": "code",
   "execution_count": null,
   "metadata": {},
   "outputs": [],
   "source": [
    "import random"
   ]
  },
  {
   "cell_type": "code",
   "execution_count": null,
   "metadata": {},
   "outputs": [],
   "source": [
    "test = df.sample(frac=(testsize/100))\n",
    "train = df.drop(test.index)"
   ]
  },
  {
   "cell_type": "code",
   "execution_count": null,
   "metadata": {},
   "outputs": [],
   "source": [
    "test"
   ]
  },
  {
   "cell_type": "code",
   "execution_count": null,
   "metadata": {},
   "outputs": [],
   "source": [
    "train.insert(0, \"Train/Test\", (len(train)*[\"Train\"]))"
   ]
  },
  {
   "cell_type": "code",
   "execution_count": null,
   "metadata": {},
   "outputs": [],
   "source": [
    "test.insert(0, \"Train/Test\", (len(test)*[\"Test\"]))"
   ]
  },
  {
   "cell_type": "code",
   "execution_count": null,
   "metadata": {},
   "outputs": [],
   "source": [
    "df = train.append(test)"
   ]
  },
  {
   "cell_type": "code",
   "execution_count": null,
   "metadata": {},
   "outputs": [],
   "source": [
    "df.reset_index(inplace=True, drop=True)"
   ]
  },
  {
   "cell_type": "code",
   "execution_count": null,
   "metadata": {},
   "outputs": [],
   "source": [
    "df"
   ]
  },
  {
   "cell_type": "code",
   "execution_count": null,
   "metadata": {},
   "outputs": [],
   "source": [
    "df.to_csv('file_name.csv', index=False)"
   ]
  },
  {
   "cell_type": "code",
   "execution_count": null,
   "metadata": {},
   "outputs": [],
   "source": [
    "    def get_files(inputdir):\n",
    "        # glob to get file, tokenize file, makes each file into a string, appends each string to the list all_files\n",
    "        \n",
    "        enron = glob.glob(\"{}/*/*.*\".format(inputdir)) # enron_sample/bailey-s/1. \n",
    "        filenames, authors_in_order = [author.split('/')[-2] + \"/\" + author.split('/')[-1]  for author in enron], [author.split('/')[-2] for author in enron] # bailey-s/1. & bailey-s\n",
    "        all_files = []\n",
    "        for file in enron:\n",
    "            with open(file, \"r\") as f:\n",
    "                onefile = ' '.join(word_tokenize(f.read()))\n",
    "            all_files.append(onefile)\n",
    "        return all_files, filenames, authors_in_order\n",
    "    \n",
    "    def vectorize_remove(inputdir):\n",
    "        # vectorize + remove unnecessary words\n",
    "        all_files, filenames, authors_in_order = get_files(inputdir)\n",
    "        \n",
    "        vectorizer = TfidfVectorizer(stop_words=stopwords, token_pattern=r'(?u)\\b[A-Za-z][A-Za-z]+\\b')\n",
    "        vectorized = vectorizer.fit_transform(all_files)\n",
    "        return vectorized, filenames, authors_in_order\n",
    "        \n",
    "    def reduce_dims(inputdir, dims):\n",
    "        # reduce dimensions\n",
    "        vectorized, filenames, authors_in_order = vectorize_remove(inputdir)\n",
    "        \n",
    "        svd = TruncatedSVD(n_components=dims)\n",
    "        fit_transformed = svd.fit_transform(vectorized)\n",
    "        return fit_transformed, filenames, authors_in_order"
   ]
  },
  {
   "cell_type": "code",
   "execution_count": null,
   "metadata": {},
   "outputs": [],
   "source": [
    "all_files, filenames, authors_in_order = get_files(\"enron_sample\")"
   ]
  },
  {
   "cell_type": "code",
   "execution_count": null,
   "metadata": {},
   "outputs": [],
   "source": [
    "vectorize_remove(\"enron_sample\")"
   ]
  },
  {
   "cell_type": "code",
   "execution_count": null,
   "metadata": {},
   "outputs": [],
   "source": [
    "reduce_dims(\"enron_sample\", 2000)"
   ]
  },
  {
   "cell_type": "code",
   "execution_count": null,
   "metadata": {},
   "outputs": [],
   "source": []
  }
 ],
 "metadata": {
  "kernelspec": {
   "display_name": "Python 3",
   "language": "python",
   "name": "python3"
  },
  "language_info": {
   "codemirror_mode": {
    "name": "ipython",
    "version": 3
   },
   "file_extension": ".py",
   "mimetype": "text/x-python",
   "name": "python",
   "nbconvert_exporter": "python",
   "pygments_lexer": "ipython3",
   "version": "3.7.4"
  }
 },
 "nbformat": 4,
 "nbformat_minor": 2
}
