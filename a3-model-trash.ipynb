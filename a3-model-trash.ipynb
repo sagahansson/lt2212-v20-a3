{
 "cells": [
  {
   "cell_type": "code",
   "execution_count": null,
   "metadata": {},
   "outputs": [],
   "source": [
    "!jt -t grade3 -fs 13 -nf opensans -nfs 13 -N -kl -cursw 5 -cursc r -cellw 1800 -T -ofs 13 \n"
   ]
  },
  {
   "cell_type": "code",
   "execution_count": null,
   "metadata": {},
   "outputs": [],
   "source": [
    "import pandas as pd\n",
    "import numpy as np"
   ]
  },
  {
   "cell_type": "code",
   "execution_count": null,
   "metadata": {},
   "outputs": [],
   "source": [
    "dates = pd.date_range('1/1/2000', periods=8)"
   ]
  },
  {
   "cell_type": "code",
   "execution_count": null,
   "metadata": {},
   "outputs": [],
   "source": [
    "df = pd.DataFrame(np.random.randn(8, 4), index=dates, columns=['A', 'B', 'C', 'D'])"
   ]
  },
  {
   "cell_type": "code",
   "execution_count": null,
   "metadata": {},
   "outputs": [],
   "source": [
    " df = pd.read_csv(\"a_file\")"
   ]
  },
  {
   "cell_type": "code",
   "execution_count": null,
   "metadata": {},
   "outputs": [],
   "source": [
    "df"
   ]
  },
  {
   "cell_type": "code",
   "execution_count": null,
   "metadata": {},
   "outputs": [],
   "source": [
    "train_df = df[df[\"Train/Test\"] == \"Train\"]"
   ]
  },
  {
   "cell_type": "code",
   "execution_count": null,
   "metadata": {},
   "outputs": [],
   "source": [
    "#train=train_df.iloc[:,1:] #removes \"Test/Train column\""
   ]
  },
  {
   "cell_type": "code",
   "execution_count": null,
   "metadata": {},
   "outputs": [],
   "source": [
    "train_df"
   ]
  },
  {
   "cell_type": "code",
   "execution_count": null,
   "metadata": {},
   "outputs": [],
   "source": [
    "test_df = df[df[\"Train/Test\"] == \"Test\"]"
   ]
  },
  {
   "cell_type": "code",
   "execution_count": null,
   "metadata": {},
   "outputs": [],
   "source": [
    "test_df.reset_index(inplace=True, drop=True)\n"
   ]
  },
  {
   "cell_type": "code",
   "execution_count": null,
   "metadata": {},
   "outputs": [],
   "source": [
    "#get author name\n",
    "d1_df = df.iloc[2928]\n",
    "d1_df[1] "
   ]
  },
  {
   "cell_type": "code",
   "execution_count": null,
   "metadata": {},
   "outputs": [],
   "source": [
    "#also get author name\n",
    "d1_df = df[df.index == 2928]\n",
    "author1 = d1_df['Author']\n",
    "author1 = author1.values[0] "
   ]
  },
  {
   "cell_type": "markdown",
   "metadata": {},
   "source": [
    "allt ovan är bara läsa in df i två olika df's => test och train"
   ]
  },
  {
   "cell_type": "code",
   "execution_count": null,
   "metadata": {},
   "outputs": [],
   "source": [
    "import torch\n",
    "import random\n",
    "from torch.autograd import Variable"
   ]
  },
  {
   "cell_type": "code",
   "execution_count": null,
   "metadata": {},
   "outputs": [],
   "source": [
    "batch_size = 1\n",
    "for i in range(batch_size):\n",
    "    print(i)"
   ]
  },
  {
   "cell_type": "code",
   "execution_count": null,
   "metadata": {},
   "outputs": [],
   "source": [
    "#df_filename = df.drop(\"Filename\", axis=1) "
   ]
  },
  {
   "cell_type": "code",
   "execution_count": null,
   "metadata": {},
   "outputs": [],
   "source": [
    "samples = []\n",
    "tensor_label_pairs = []\n",
    "for i in range(batch_size):\n",
    "    authors = list(set(df_filename[\"Author\"]))\n",
    "    seed_authors = random.choices(authors, k=2)\n",
    "    data_train = df_filename[df_filename[\"Train/Test\"] == \"Train\"]\n",
    "    seed_entries_1 = (data_train[data_train[\"Author\"] == seed_authors[0]]).sample(n=2, replace=True)\n",
    "    #print(seed_entries_1.iloc[0])\n",
    "    seed_entries_2 = (data_train[data_train[\"Author\"] == seed_authors[1]]).sample(n=2, replace=True)\n",
    "    if random.random() < 0.5:\n",
    "        samples.append((seed_entries_1.iloc[0], seed_entries_1.iloc[1],0))\n",
    "    else:\n",
    "        samples.append((seed_entries_1.iloc[0], seed_entries_2.iloc[0],1))\n",
    "for sample in samples:\n",
    "    a = list(sample[0])[2:-2]\n",
    "    #print(sample[0][1:-2])\n",
    "   #print(sample[0].values[1:-1])\n",
    "    b = list(sample[1])[2:-2]\n",
    "    c = Variable(torch.Tensor((a+b)))\n",
    "    label = torch.Tensor([sample[2]])\n",
    "    print(sample[2])\n",
    "    tensor_label_pairs.append((c,label))\n",
    "print(tensor_label_pairs)\n"
   ]
  },
  {
   "cell_type": "code",
   "execution_count": null,
   "metadata": {},
   "outputs": [],
   "source": []
  },
  {
   "cell_type": "code",
   "execution_count": null,
   "metadata": {},
   "outputs": [],
   "source": [
    "authors = df.Author.unique().tolist()\n",
    "print(len(authors))\n",
    "first_author = authors.pop(random.randrange(0,(len(authors))))\n",
    "print(len(authors))\n",
    "print(first_author)\n",
    "second_author = authors.pop(random.randrange(0,(len(authors))))\n",
    "print(len(authors))\n",
    "print(second_author)"
   ]
  },
  {
   "cell_type": "code",
   "execution_count": null,
   "metadata": {},
   "outputs": [],
   "source": [
    "df1 = df[df[\"Author\"].values == \"bailey-s\"]\n",
    "\n",
    "row = np.random.choice(df.index.values)\n",
    "#print(row)\n",
    "sampled_df = df.iloc[row]\n",
    "print(sampled_df[2:])\n",
    "\n",
    "print(torch.from_numpy(df[df[\"Author\"].values == first_author].sample(n=1).drop([\"Train/Test\", \"Author\"], axis=1).values))"
   ]
  },
  {
   "cell_type": "code",
   "execution_count": null,
   "metadata": {},
   "outputs": [],
   "source": [
    "x = torch.randn(2, 3)\n",
    "print(x)\n",
    "y = torch.randn(2, 3)\n",
    "print(y)\n",
    "z = torch.randn(2, 3)\n",
    "print(z)\n",
    "torch.cat((x, y, z), 0)"
   ]
  },
  {
   "cell_type": "code",
   "execution_count": null,
   "metadata": {},
   "outputs": [],
   "source": [
    "\n",
    "def sample_data(size, df):\n",
    "    def compare_author(i1, i2):\n",
    "        d1_df = df[df.index == i1]\n",
    "        d2_df = df[df.index == i2]\n",
    "        author1 = d1_df['0']\n",
    "        a1 = author1.values.tolist()\n",
    "        author2 = d2_df['0']\n",
    "        a2 = author2.values.tolist()\n",
    "        d1 = d1_df.values.tolist()\n",
    "        d1 = d1[0][3:]\n",
    "        d2 = d2_df.values.tolist()\n",
    "        d2 = d2[0][3:]\n",
    "        if a1 == a2:\n",
    "            c = 1\n",
    "        else:\n",
    "            c = 0\n",
    "        d = d1 + d2\n",
    "        sample = (d, c)\n",
    "        return sample\n",
    "\n",
    "    samples = []\n",
    "    counter1 = 0\n",
    "    counter0 = 0\n",
    "    while len(samples) <= size:\n",
    "        index1 = random.choice(df.index)\n",
    "        index2 = random.choice(df.index)\n",
    "        while index1 == index2:\n",
    "            index2 = random.choice(df.index)\n",
    "        sample = compare_author(index1, index2)\n",
    "        if sample[1] == 1:\n",
    "            if counter1 <= size/2 + 1:\n",
    "                samples.append(sample)\n",
    "                counter1 += 1\n",
    "        else:\n",
    "            if counter0 <= size/2 + 1:\n",
    "                samples.append(sample)\n",
    "                counter0 += 1\n",
    "    random.shuffle(samples)\n",
    "    print(samples)"
   ]
  },
  {
   "cell_type": "code",
   "execution_count": null,
   "metadata": {},
   "outputs": [],
   "source": [
    "sample_data(5, train_df)"
   ]
  },
  {
   "cell_type": "code",
   "execution_count": null,
   "metadata": {},
   "outputs": [],
   "source": []
  }
 ],
 "metadata": {
  "kernelspec": {
   "display_name": "Python 3",
   "language": "python",
   "name": "python3"
  },
  "language_info": {
   "codemirror_mode": {
    "name": "ipython",
    "version": 3
   },
   "file_extension": ".py",
   "mimetype": "text/x-python",
   "name": "python",
   "nbconvert_exporter": "python",
   "pygments_lexer": "ipython3",
   "version": "3.7.4"
  }
 },
 "nbformat": 4,
 "nbformat_minor": 2
}
